{
  "nbformat": 4,
  "nbformat_minor": 0,
  "metadata": {
    "colab": {
      "provenance": [],
      "authorship_tag": "ABX9TyO6xGAPXdlljfEs8DhgdzhA",
      "include_colab_link": true
    },
    "kernelspec": {
      "name": "python3",
      "display_name": "Python 3"
    },
    "language_info": {
      "name": "python"
    }
  },
  "cells": [
    {
      "cell_type": "markdown",
      "metadata": {
        "id": "view-in-github",
        "colab_type": "text"
      },
      "source": [
        "<a href=\"https://colab.research.google.com/github/keithcuaderno/Emtech-Sensor-Analytics/blob/main/EmTechHomework.ipynb\" target=\"_parent\"><img src=\"https://colab.research.google.com/assets/colab-badge.svg\" alt=\"Open In Colab\"/></a>"
      ]
    },
    {
      "cell_type": "code",
      "source": [
        "#AI HOMEWORK\n",
        "#CUADERNO, DIOLIN, LANSANG, SEITON\n",
        "\n",
        "#TASK: create a program that can compute the mean, median, and mode of 100 random numbers.\n",
        "\n",
        "import statistics\n",
        "\n",
        "data = [1,19,20,2,4,6,19,96,9,29,64,12,29,60,34,16,45,23,13,6,8,12,3,9,4,6,2,1,3,5,78,83,45,2,3,11,45,32,21,56,78,93,80,76,52,31,8,9,10,99,10,31,96,55,48,92,21,34,55,22,11,33,55,67,78,79,54,12,45,2,9,12,3,4,76,81,3,23,24,24,90,34,16,17,18,54,44,67,56,12,13,34,6,12,3,5,89,13,70,23]\n",
        "\n",
        "#compute for mean\n",
        "x = statistics.mean(data)\n",
        "\n",
        "#compute for median\n",
        "y = statistics.median(data)\n",
        "\n",
        "#compute for mode\n",
        "z = statistics.mode(data)\n",
        "\n",
        "print('Mean:', x)\n",
        "print('Median:', y)\n",
        "print('Mode:', z)"
      ],
      "metadata": {
        "id": "ieIHVdof2FRq",
        "colab": {
          "base_uri": "https://localhost:8080/"
        },
        "outputId": "68c2b064-1927-421f-e0e9-5177f42d490d"
      },
      "execution_count": null,
      "outputs": [
        {
          "output_type": "stream",
          "name": "stdout",
          "text": [
            "Mean: 33.07\n",
            "Median: 22.5\n",
            "Mode: 12\n"
          ]
        }
      ]
    }
  ]
}